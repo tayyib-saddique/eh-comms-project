{
 "cells": [
  {
   "cell_type": "code",
   "execution_count": 5,
   "metadata": {},
   "outputs": [
    {
     "name": "stdout",
     "output_type": "stream",
     "text": [
      "total_hits=0 page=1 total_pages=0 page_size=100 articles=[] user_input={'q': 'Policing', 'search_in': ['title_content'], 'predefined_sources': None, 'sources': ['thedailymail.com'], 'not_sources': None, 'lang': None, 'not_lang': None, 'countries': ['GB'], 'not_countries': None, 'not_author_name': None, 'from_': '2024-04-09T00:00:00', 'to_': '2024-04-16T11:12:14.488967', 'published_date_precision': None, 'by_parse_date': False, 'sort_by': 'relevancy', 'ranked_only': None, 'from_rank': None, 'to_rank': None, 'is_headline': None, 'is_paid_content': None, 'parent_url': None, 'all_links': None, 'all_domain_links': None, 'word_count_min': None, 'word_count_max': None, 'page': 1, 'page_size': 100, 'clustering_variable': None, 'clustering_enabled': None, 'clustering_threshold': None, 'include_nlp_data': None, 'has_nlp': None, 'theme': None, 'not_theme': None, 'ORG_entity_name': None, 'PER_entity_name': None, 'LOC_entity_name': None, 'MISC_entity_name': None, 'title_sentiment_min': None, 'title_sentiment_max': None, 'content_sentiment_min': None, 'content_sentiment_max': None, 'iptc_tags': None, 'not_iptc_tags': None, 'source_name': None, 'iab_tags': None, 'not_iab_tags': None} status='ok'\n"
     ]
    }
   ],
   "source": [
    "import os\n",
    "from dotenv import load_dotenv\n",
    "\n",
    "from pprint import pprint\n",
    "from newscatcherapi_client import Newscatcher, ApiException\n",
    "\n",
    "load_dotenv()\n",
    "\n",
    "newscatcher = Newscatcher(\n",
    "    # enter api key\n",
    "    api_key= os.environ.get(\"NEWSCATCHER_API_KEY\"), \n",
    ")\n",
    "\n",
    "try:\n",
    "    # [Get] Search By Author Request\n",
    "    get_response = newscatcher.search.get(\n",
    "        q=\"homicide OR Murder OR Drugs OR Gang violence OR Police report OR Security OR Public safety OR Vandalism OR Crime rate OR Crime prevention OR Policing policy OR Legal proceedings OR Court case OR Sentencing OR Criminal charges OR Missing person OR Crime alert OR Officer-involved shooting OR Police reform\",\n",
    "        search_in=\"title_content\",\n",
    "        countries=\"GB\",\n",
    "        theme='Crime',\n",
    "        sources=['https://www.itv.com/news/topic/west-yorkshire','https://planetradio.co.uk/greatest-hits/west-yorkshire/news/', 'https://planetradio.co.uk/greatest-hits/west-yorkshire/news/', 'https://sheffnews.com/'],\n",
    "    )\n",
    "    print(get_response)\n",
    "except ApiException as e:\n",
    "    print(\"Exception when calling AuthorsApi.get: %s\\n\" % e)\n",
    "    pprint(e.body)\n",
    "    if e.status == 422:\n",
    "        pprint(e.body[\"detail\"])\n",
    "    pprint(e.headers)\n",
    "    pprint(e.status)\n",
    "    pprint(e.reason)\n",
    "    pprint(e.round_trip_time)\n",
    "\n"
   ]
  }
 ],
 "metadata": {
  "kernelspec": {
   "display_name": "Python 3 (ipykernel)",
   "language": "python",
   "name": "python3"
  },
  "language_info": {
   "codemirror_mode": {
    "name": "ipython",
    "version": 3
   },
   "file_extension": ".py",
   "mimetype": "text/x-python",
   "name": "python",
   "nbconvert_exporter": "python",
   "pygments_lexer": "ipython3",
   "version": "3.11.1"
  }
 },
 "nbformat": 4,
 "nbformat_minor": 2
}
