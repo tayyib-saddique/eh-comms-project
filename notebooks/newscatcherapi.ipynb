{
 "cells": [
  {
   "cell_type": "code",
   "execution_count": null,
   "metadata": {},
   "outputs": [],
   "source": [
    "from newscatcherapi import NewsCatcherApiClient\n",
    "\n",
    "API_KEY = '' # do not commit API_KEY\n",
    "\n",
    "newscatcherapi = NewsCatcherApiClient(x_api_key=(API_KEY))\n",
    "\n",
    "news_articles = newscatcherapi.get_search(q=\"Tesla\")\n"
   ]
  }
 ],
 "metadata": {
  "kernelspec": {
   "display_name": "base",
   "language": "python",
   "name": "python3"
  },
  "language_info": {
   "codemirror_mode": {
    "name": "ipython",
    "version": 3
   },
   "file_extension": ".py",
   "mimetype": "text/x-python",
   "name": "python",
   "nbconvert_exporter": "python",
   "pygments_lexer": "ipython3",
   "version": "3.9.13"
  }
 },
 "nbformat": 4,
 "nbformat_minor": 2
}
