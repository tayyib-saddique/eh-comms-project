{
 "cells": [
  {
   "cell_type": "code",
   "execution_count": 10,
   "metadata": {},
   "outputs": [
    {
     "ename": "ClientConfigurationError",
     "evalue": "API Key \"apiKey\" is required",
     "output_type": "error",
     "traceback": [
      "\u001b[0;31m---------------------------------------------------------------------------\u001b[0m",
      "\u001b[0;31mClientConfigurationError\u001b[0m                  Traceback (most recent call last)",
      "Cell \u001b[0;32mIn[10], line 9\u001b[0m\n\u001b[1;32m      5\u001b[0m \u001b[38;5;28;01mfrom\u001b[39;00m \u001b[38;5;21;01mnewscatcherapi_client\u001b[39;00m \u001b[38;5;28;01mimport\u001b[39;00m Newscatcher, ApiException\n\u001b[1;32m      7\u001b[0m load_dotenv()\n\u001b[0;32m----> 9\u001b[0m newscatcher \u001b[38;5;241m=\u001b[39m \u001b[43mNewscatcher\u001b[49m\u001b[43m(\u001b[49m\n\u001b[1;32m     10\u001b[0m \u001b[43m    \u001b[49m\u001b[38;5;66;43;03m# enter api key\u001b[39;49;00m\n\u001b[1;32m     11\u001b[0m \u001b[43m    \u001b[49m\u001b[43mapi_key\u001b[49m\u001b[38;5;241;43m=\u001b[39;49m\u001b[43m \u001b[49m\u001b[43mos\u001b[49m\u001b[38;5;241;43m.\u001b[39;49m\u001b[43menviron\u001b[49m\u001b[38;5;241;43m.\u001b[39;49m\u001b[43mget\u001b[49m\u001b[43m(\u001b[49m\u001b[38;5;124;43m\"\u001b[39;49m\u001b[38;5;124;43mNEWSCATCHER_API_KEY\u001b[39;49m\u001b[38;5;124;43m\"\u001b[39;49m\u001b[43m)\u001b[49m\u001b[43m,\u001b[49m\u001b[43m \u001b[49m\n\u001b[1;32m     12\u001b[0m \u001b[43m)\u001b[49m\n\u001b[1;32m     14\u001b[0m \u001b[38;5;28;01mtry\u001b[39;00m:\n\u001b[1;32m     15\u001b[0m     \u001b[38;5;66;03m# [Get] Search By Author Request\u001b[39;00m\n\u001b[1;32m     16\u001b[0m     get_response \u001b[38;5;241m=\u001b[39m newscatcher\u001b[38;5;241m.\u001b[39msearch\u001b[38;5;241m.\u001b[39mget(\n\u001b[1;32m     17\u001b[0m         q\u001b[38;5;241m=\u001b[39m\u001b[38;5;124m\"\u001b[39m\u001b[38;5;124mhomicide OR Murder OR Drugs OR Gang violence OR Police report OR Security OR Public safety OR Vandalism OR Crime rate OR Crime prevention OR Policing policy OR Legal proceedings OR Court case OR Sentencing OR Criminal charges OR Missing person OR Crime alert OR Officer-involved shooting OR Police reform\u001b[39m\u001b[38;5;124m\"\u001b[39m,\n\u001b[1;32m     18\u001b[0m         search_in\u001b[38;5;241m=\u001b[39m\u001b[38;5;124m\"\u001b[39m\u001b[38;5;124mtitle_content\u001b[39m\u001b[38;5;124m\"\u001b[39m,\n\u001b[0;32m   (...)\u001b[0m\n\u001b[1;32m     21\u001b[0m         sources\u001b[38;5;241m=\u001b[39m[\u001b[38;5;124m'\u001b[39m\u001b[38;5;124mhttps://www.itv.com/news/topic/west-yorkshire\u001b[39m\u001b[38;5;124m'\u001b[39m,\u001b[38;5;124m'\u001b[39m\u001b[38;5;124mhttps://planetradio.co.uk/greatest-hits/west-yorkshire/news/\u001b[39m\u001b[38;5;124m'\u001b[39m, \u001b[38;5;124m'\u001b[39m\u001b[38;5;124mhttps://planetradio.co.uk/greatest-hits/west-yorkshire/news/\u001b[39m\u001b[38;5;124m'\u001b[39m, \u001b[38;5;124m'\u001b[39m\u001b[38;5;124mhttps://sheffnews.com/\u001b[39m\u001b[38;5;124m'\u001b[39m],\n\u001b[1;32m     22\u001b[0m     )\n",
      "File \u001b[0;32m/usr/local/python/3.10.13/lib/python3.10/site-packages/newscatcherapi_client/client.py:32\u001b[0m, in \u001b[0;36mNewscatcher.__init__\u001b[0;34m(self, configuration, **kwargs)\u001b[0m\n\u001b[1;32m     31\u001b[0m \u001b[38;5;28;01mdef\u001b[39;00m \u001b[38;5;21m__init__\u001b[39m(\u001b[38;5;28mself\u001b[39m, configuration: typing\u001b[38;5;241m.\u001b[39mUnion[Configuration, \u001b[38;5;28;01mNone\u001b[39;00m] \u001b[38;5;241m=\u001b[39m \u001b[38;5;28;01mNone\u001b[39;00m, \u001b[38;5;241m*\u001b[39m\u001b[38;5;241m*\u001b[39mkwargs):\n\u001b[0;32m---> 32\u001b[0m     \u001b[38;5;28;43msuper\u001b[39;49m\u001b[43m(\u001b[49m\u001b[43m)\u001b[49m\u001b[38;5;241;43m.\u001b[39;49m\u001b[38;5;21;43m__init__\u001b[39;49m\u001b[43m(\u001b[49m\u001b[43mconfiguration\u001b[49m\u001b[43m,\u001b[49m\u001b[43m \u001b[49m\u001b[38;5;241;43m*\u001b[39;49m\u001b[38;5;241;43m*\u001b[39;49m\u001b[43mkwargs\u001b[49m\u001b[43m)\u001b[49m\n\u001b[1;32m     33\u001b[0m     \u001b[38;5;28;01mif\u001b[39;00m (\u001b[38;5;28mlen\u001b[39m(kwargs) \u001b[38;5;241m>\u001b[39m \u001b[38;5;241m0\u001b[39m):\n\u001b[1;32m     34\u001b[0m         configuration \u001b[38;5;241m=\u001b[39m Configuration(\u001b[38;5;241m*\u001b[39m\u001b[38;5;241m*\u001b[39mkwargs)\n",
      "File \u001b[0;32m/usr/local/python/3.10.13/lib/python3.10/site-packages/newscatcherapi_client/client_custom.py:23\u001b[0m, in \u001b[0;36mClientCustom.__init__\u001b[0;34m(self, configuration, **kwargs)\u001b[0m\n\u001b[1;32m     21\u001b[0m \u001b[38;5;28;01mdef\u001b[39;00m \u001b[38;5;21m__init__\u001b[39m(\u001b[38;5;28mself\u001b[39m, configuration: typing\u001b[38;5;241m.\u001b[39mUnion[Configuration, \u001b[38;5;28;01mNone\u001b[39;00m] \u001b[38;5;241m=\u001b[39m \u001b[38;5;28;01mNone\u001b[39;00m, \u001b[38;5;241m*\u001b[39m\u001b[38;5;241m*\u001b[39mkwargs):\n\u001b[1;32m     22\u001b[0m     \u001b[38;5;28;01mif\u001b[39;00m (\u001b[38;5;28mlen\u001b[39m(kwargs) \u001b[38;5;241m>\u001b[39m \u001b[38;5;241m0\u001b[39m):\n\u001b[0;32m---> 23\u001b[0m         configuration \u001b[38;5;241m=\u001b[39m \u001b[43mConfiguration\u001b[49m\u001b[43m(\u001b[49m\u001b[38;5;241;43m*\u001b[39;49m\u001b[38;5;241;43m*\u001b[39;49m\u001b[43mkwargs\u001b[49m\u001b[43m)\u001b[49m\n\u001b[1;32m     24\u001b[0m     \u001b[38;5;28;01mif\u001b[39;00m (configuration \u001b[38;5;129;01mis\u001b[39;00m \u001b[38;5;28;01mNone\u001b[39;00m):\n\u001b[1;32m     25\u001b[0m         \u001b[38;5;28;01mraise\u001b[39;00m \u001b[38;5;167;01mException\u001b[39;00m(\u001b[38;5;124m\"\u001b[39m\u001b[38;5;124mconfiguration is required\u001b[39m\u001b[38;5;124m\"\u001b[39m)\n",
      "File \u001b[0;32m/usr/local/python/3.10.13/lib/python3.10/site-packages/newscatcherapi_client/configuration.py:140\u001b[0m, in \u001b[0;36mConfiguration.__init__\u001b[0;34m(self, host, api_key, api_key_prefix, username, password, discard_unknown_keys, x_api_token, disabled_client_side_validations, server_index, server_variables, server_operation_index, server_operation_variables)\u001b[0m\n\u001b[1;32m    138\u001b[0m         \u001b[38;5;28mself\u001b[39m\u001b[38;5;241m.\u001b[39mapi_key \u001b[38;5;241m=\u001b[39m api_key\n\u001b[1;32m    139\u001b[0m \u001b[38;5;28;01melse\u001b[39;00m:\n\u001b[0;32m--> 140\u001b[0m     \u001b[38;5;28;01mraise\u001b[39;00m ClientConfigurationError(\u001b[38;5;124m'\u001b[39m\u001b[38;5;124mAPI Key \u001b[39m\u001b[38;5;124m\"\u001b[39m\u001b[38;5;124mapiKey\u001b[39m\u001b[38;5;124m\"\u001b[39m\u001b[38;5;124m is required\u001b[39m\u001b[38;5;124m'\u001b[39m)\n\u001b[1;32m    141\u001b[0m \u001b[38;5;28;01mif\u001b[39;00m x_api_token:\n\u001b[1;32m    142\u001b[0m     \u001b[38;5;28mself\u001b[39m\u001b[38;5;241m.\u001b[39mapi_key[\u001b[38;5;124m'\u001b[39m\u001b[38;5;124mapiKey\u001b[39m\u001b[38;5;124m'\u001b[39m] \u001b[38;5;241m=\u001b[39m x_api_token\n",
      "\u001b[0;31mClientConfigurationError\u001b[0m: API Key \"apiKey\" is required"
     ]
    }
   ],
   "source": [
    "import os\n",
    "from dotenv import load_dotenv\n",
    "\n",
    "from pprint import pprint\n",
    "from newscatcherapi_client import Newscatcher, ApiException\n",
    "\n",
    "load_dotenv()\n",
    "\n",
    "newscatcher = Newscatcher(\n",
    "    # enter api key\n",
    "    api_key= os.environ.get(\"NEWSCATCHER_API_KEY\"), \n",
    ")\n",
    "\n",
    "try:\n",
    "    # [Get] Search By Author Request\n",
    "    get_response = newscatcher.search.get(\n",
    "        q=\"homicide OR Murder OR Drugs OR Gang violence OR Police report OR Security OR Public safety OR Vandalism OR Crime rate OR Crime prevention OR Policing policy OR Legal proceedings OR Court case OR Sentencing OR Criminal charges OR Missing person OR Crime alert OR Officer-involved shooting OR Police reform\",\n",
    "        search_in=\"title_content\",\n",
    "        countries=\"GB\",\n",
    "        theme='Crime',\n",
    "        sources=['https://www.itv.com/news/topic/west-yorkshire','https://planetradio.co.uk/greatest-hits/west-yorkshire/news/', 'https://planetradio.co.uk/greatest-hits/west-yorkshire/news/', 'https://sheffnews.com/'],\n",
    "    )\n",
    "    print(get_response)\n",
    "except ApiException as e:\n",
    "    print(\"Exception when calling AuthorsApi.get: %s\\n\" % e)\n",
    "    pprint(e.body)\n",
    "    if e.status == 422:\n",
    "        pprint(e.body[\"detail\"])\n",
    "    pprint(e.headers)\n",
    "    pprint(e.status)\n",
    "    pprint(e.reason)\n",
    "    pprint(e.round_trip_time)\n",
    "\n"
   ]
  }
 ],
 "metadata": {
  "kernelspec": {
   "display_name": "Python 3 (ipykernel)",
   "language": "python",
   "name": "python3"
  },
  "language_info": {
   "codemirror_mode": {
    "name": "ipython",
    "version": 3
   },
   "file_extension": ".py",
   "mimetype": "text/x-python",
   "name": "python",
   "nbconvert_exporter": "python",
   "pygments_lexer": "ipython3",
   "version": "3.10.13"
  }
 },
 "nbformat": 4,
 "nbformat_minor": 2
}
