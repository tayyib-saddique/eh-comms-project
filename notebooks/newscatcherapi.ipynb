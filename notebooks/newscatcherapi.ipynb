{
 "cells": [
  {
   "cell_type": "code",
   "execution_count": null,
   "metadata": {},
   "outputs": [],
   "source": [
    "from pprint import pprint\n",
    "from newscatcherapi_client import Newscatcher, ApiException\n",
    "\n",
    "newscatcher = Newscatcher(\n",
    "    # enter api key\n",
    "    api_key=\"\" , \n",
    ")\n",
    "\n",
    "try:\n",
    "    # [Get] Search By Author Request\n",
    "    get_response = newscatcher.search.get(\n",
    "        q=\"raises AND series A\",\n",
    "        search_in=\"title_content\"\n",
    "    )\n",
    "    print(get_response)\n",
    "except ApiException as e:\n",
    "    print(\"Exception when calling AuthorsApi.get: %s\\n\" % e)\n",
    "    pprint(e.body)\n",
    "    if e.status == 422:\n",
    "        pprint(e.body[\"detail\"])\n",
    "    pprint(e.headers)\n",
    "    pprint(e.status)\n",
    "    pprint(e.reason)\n",
    "    pprint(e.round_trip_time)\n"
   ]
  }
 ],
 "metadata": {
  "kernelspec": {
   "display_name": "base",
   "language": "python",
   "name": "python3"
  },
  "language_info": {
   "codemirror_mode": {
    "name": "ipython",
    "version": 3
   },
   "file_extension": ".py",
   "mimetype": "text/x-python",
   "name": "python",
   "nbconvert_exporter": "python",
   "pygments_lexer": "ipython3",
   "version": "3.9.13"
  }
 },
 "nbformat": 4,
 "nbformat_minor": 2
}
